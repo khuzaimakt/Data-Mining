{
 "cells": [
  {
   "cell_type": "code",
   "execution_count": 40,
   "metadata": {},
   "outputs": [],
   "source": [
    "from sklearn.model_selection import train_test_split, KFold\n",
    "from sklearn.linear_model import LogisticRegression\n",
    "from sklearn.metrics import accuracy_score\n",
    "from sklearn.metrics import precision_score, recall_score, f1_score, confusion_matrix\n",
    "from sklearn.preprocessing import LabelEncoder\n",
    "import matplotlib.pyplot as plt\n",
    "import pandas as pd"
   ]
  },
  {
   "cell_type": "code",
   "execution_count": 20,
   "metadata": {},
   "outputs": [],
   "source": [
    "df=pd.read_csv('cancer_data.csv')"
   ]
  },
  {
   "cell_type": "code",
   "execution_count": 21,
   "metadata": {},
   "outputs": [],
   "source": [
    "le = LabelEncoder()\n",
    "df['diagnosis'] = le.fit_transform(df['diagnosis'])\n"
   ]
  },
  {
   "cell_type": "code",
   "execution_count": 22,
   "metadata": {},
   "outputs": [],
   "source": [
    "X=df.drop('diagnosis',axis=1)\n",
    "y=df['diagnosis']"
   ]
  },
  {
   "cell_type": "code",
   "execution_count": 30,
   "metadata": {},
   "outputs": [],
   "source": [
    "X_train, X_test, y_train, y_test = train_test_split(X,y, test_size=0.2, random_state=42)\n"
   ]
  },
  {
   "cell_type": "code",
   "execution_count": 31,
   "metadata": {},
   "outputs": [
    {
     "name": "stdout",
     "output_type": "stream",
     "text": [
      "Accuracy: 0.6228\n"
     ]
    }
   ],
   "source": [
    "clf = LogisticRegression()\n",
    "clf.fit(X_train, y_train)\n",
    "y_p = clf.predict(X_test)\n",
    "accuracy = accuracy_score(y_test, y_p)\n",
    "print(f'Accuracy: {accuracy:.4f}')\n"
   ]
  },
  {
   "cell_type": "code",
   "execution_count": 32,
   "metadata": {},
   "outputs": [
    {
     "name": "stdout",
     "output_type": "stream",
     "text": [
      "Average k-fold cross-validation accuracy: 0.5011\n"
     ]
    }
   ],
   "source": [
    "kfold = KFold(n_splits=5, shuffle=True, random_state=42)\n",
    "fold_scores = []\n",
    "for train_idx, test_idx in kfold.split(X_train):\n",
    "    kfold_X_train, kfold_X_val = X_train.iloc[train_idx], X_train.iloc[test_idx]\n",
    "    kfold_y_train, kfold_y_val = y_train.iloc[train_idx], y_train.iloc[test_idx]\n",
    "    \n",
    "    kfold_clf = LogisticRegression()\n",
    "    kfold_clf.fit(kfold_X_train, kfold_y_train)\n",
    "    kfold_val_preds = kfold_clf.predict(kfold_X_val)\n",
    "    fold_score = accuracy_score(kfold_y_val, kfold_val_preds)\n",
    "    fold_scores.append(fold_score)\n",
    "\n",
    "avg_fold_score = sum(fold_scores) / len(fold_scores)\n",
    "print(f'Average k-fold cross-validation accuracy: {avg_fold_score:.4f}')"
   ]
  },
  {
   "cell_type": "code",
   "execution_count": 33,
   "metadata": {},
   "outputs": [],
   "source": [
    "X_train, X_val, y_train, y_val = train_test_split(X_train,y_train,test_size=0.2,random_state=35)"
   ]
  },
  {
   "cell_type": "code",
   "execution_count": 34,
   "metadata": {},
   "outputs": [
    {
     "data": {
      "text/plain": [
       "LogisticRegression()"
      ]
     },
     "execution_count": 34,
     "metadata": {},
     "output_type": "execute_result"
    }
   ],
   "source": [
    "clf=LogisticRegression()\n",
    "clf.fit(X_train,y_train)"
   ]
  },
  {
   "cell_type": "code",
   "execution_count": 35,
   "metadata": {},
   "outputs": [
    {
     "name": "stdout",
     "output_type": "stream",
     "text": [
      "Training set metrics:\n",
      "Accuracy: 0.6209\n",
      "Error Rate: 0.3791\n",
      "Precision: 0.0000\n",
      "Recall: 0.0000\n",
      "F1-Score: 0.0000\n",
      "Sensitivity: 0.0000\n",
      "Specificity: 1.0000\n",
      "Confusion Matrix:\n",
      "[[226   0]\n",
      " [138   0]]\n"
     ]
    },
    {
     "name": "stderr",
     "output_type": "stream",
     "text": [
      "c:\\Users\\tofee\\anaconda3\\lib\\site-packages\\sklearn\\metrics\\_classification.py:1248: UndefinedMetricWarning: Precision is ill-defined and being set to 0.0 due to no predicted samples. Use `zero_division` parameter to control this behavior.\n",
      "  _warn_prf(average, modifier, msg_start, len(result))\n"
     ]
    }
   ],
   "source": [
    "train_preds = clf.predict(X_train)\n",
    "train_accuracy = accuracy_score(y_train, train_preds)\n",
    "train_error_rate = 1 - train_accuracy\n",
    "train_precision = precision_score(y_train, train_preds)\n",
    "train_recall = recall_score(y_train, train_preds)\n",
    "train_f1_score = f1_score(y_train, train_preds)\n",
    "train_confusion_matrix = confusion_matrix(y_train, train_preds)\n",
    "train_sensitivity = train_confusion_matrix[1, 1] / (train_confusion_matrix[1, 0] + train_confusion_matrix[1, 1])\n",
    "train_specificity = train_confusion_matrix[0, 0] / (train_confusion_matrix[0, 0] + train_confusion_matrix[0, 1])\n",
    "print('Training set metrics:')\n",
    "print(f'Accuracy: {train_accuracy:.4f}')\n",
    "print(f'Error Rate: {train_error_rate:.4f}')\n",
    "print(f'Precision: {train_precision:.4f}')\n",
    "print(f'Recall: {train_recall:.4f}')\n",
    "print(f'F1-Score: {train_f1_score:.4f}')\n",
    "print(f'Sensitivity: {train_sensitivity:.4f}')\n",
    "print(f'Specificity: {train_specificity:.4f}')\n",
    "print('Confusion Matrix:')\n",
    "print(train_confusion_matrix)"
   ]
  },
  {
   "cell_type": "code",
   "execution_count": 36,
   "metadata": {},
   "outputs": [
    {
     "name": "stdout",
     "output_type": "stream",
     "text": [
      "\n",
      "Test set metrics:\n",
      "Accuracy: 0.6228\n",
      "Error Rate: 0.3772\n",
      "Precision: 0.0000\n",
      "Recall: 0.0000\n",
      "F1-Score: 0.0000\n",
      "Sensitivity: 0.0000\n",
      "Specificity: 1.0000\n",
      "Confusion Matrix:\n",
      "[[71  0]\n",
      " [43  0]]\n"
     ]
    },
    {
     "name": "stderr",
     "output_type": "stream",
     "text": [
      "c:\\Users\\tofee\\anaconda3\\lib\\site-packages\\sklearn\\metrics\\_classification.py:1248: UndefinedMetricWarning: Precision is ill-defined and being set to 0.0 due to no predicted samples. Use `zero_division` parameter to control this behavior.\n",
      "  _warn_prf(average, modifier, msg_start, len(result))\n"
     ]
    }
   ],
   "source": [
    "test_preds = clf.predict(X_test)\n",
    "test_accuracy = accuracy_score(y_test, test_preds)\n",
    "test_error_rate = 1 - test_accuracy\n",
    "test_precision = precision_score(y_test, test_preds)\n",
    "test_recall = recall_score(y_test, test_preds)\n",
    "test_f1_score = f1_score(y_test, test_preds)\n",
    "test_confusion_matrix = confusion_matrix(y_test, test_preds)\n",
    "test_sensitivity = test_confusion_matrix[1, 1] / (test_confusion_matrix[1, 0] + test_confusion_matrix[1, 1])\n",
    "test_specificity = test_confusion_matrix[0, 0] / (test_confusion_matrix[0, 0] + test_confusion_matrix[0, 1])\n",
    "print('\\nTest set metrics:')\n",
    "print(f'Accuracy: {test_accuracy:.4f}')\n",
    "print(f'Error Rate: {test_error_rate:.4f}')\n",
    "print(f'Precision: {test_precision:.4f}')\n",
    "print(f'Recall: {test_recall:.4f}')\n",
    "print(f'F1-Score: {test_f1_score:.4f}')\n",
    "print(f'Sensitivity: {test_sensitivity:.4f}')\n",
    "print(f'Specificity: {test_specificity:.4f}')\n",
    "print('Confusion Matrix:')\n",
    "print(test_confusion_matrix)"
   ]
  },
  {
   "cell_type": "code",
   "execution_count": 37,
   "metadata": {},
   "outputs": [
    {
     "name": "stdout",
     "output_type": "stream",
     "text": [
      "\n",
      "Validation set metrics:\n",
      "Accuracy: 0.6593\n",
      "Error Rate: 0.3407\n",
      "Precision: 0.0000\n",
      "Recall: 0.0000\n",
      "F1-Score: 0.0000\n",
      "Sensitivity: 0.0000\n",
      "Specificity: 1.0000\n",
      "Confusion Matrix:\n",
      "[[60  0]\n",
      " [31  0]]\n"
     ]
    },
    {
     "name": "stderr",
     "output_type": "stream",
     "text": [
      "c:\\Users\\tofee\\anaconda3\\lib\\site-packages\\sklearn\\metrics\\_classification.py:1248: UndefinedMetricWarning: Precision is ill-defined and being set to 0.0 due to no predicted samples. Use `zero_division` parameter to control this behavior.\n",
      "  _warn_prf(average, modifier, msg_start, len(result))\n"
     ]
    }
   ],
   "source": [
    "val_preds = clf.predict(X_val)\n",
    "val_accuracy = accuracy_score(y_val, val_preds)\n",
    "val_error_rate = 1 - val_accuracy\n",
    "val_precision = precision_score(y_val, val_preds)\n",
    "val_recall = recall_score(y_val, val_preds)\n",
    "val_f1_score = f1_score(y_val, val_preds)\n",
    "val_confusion_matrix = confusion_matrix(y_val, val_preds)\n",
    "val_sensitivity = val_confusion_matrix[1, 1] / (val_confusion_matrix[1, 0] + val_confusion_matrix[1, 1])\n",
    "val_specificity = val_confusion_matrix[0, 0] / (val_confusion_matrix[0, 0] + val_confusion_matrix[0, 1])\n",
    "print('\\nValidation set metrics:')\n",
    "print(f'Accuracy: {val_accuracy:.4f}')\n",
    "print(f'Error Rate: {val_error_rate:.4f}')\n",
    "print(f'Precision: {val_precision:.4f}')\n",
    "print(f'Recall: {val_recall:.4f}')\n",
    "print(f'F1-Score: {val_f1_score:.4f}')\n",
    "print(f'Sensitivity: {val_sensitivity:.4f}')\n",
    "print(f'Specificity: {val_specificity:.4f}')\n",
    "print('Confusion Matrix:')\n",
    "print(val_confusion_matrix)"
   ]
  },
  {
   "cell_type": "code",
   "execution_count": 41,
   "metadata": {},
   "outputs": [
    {
     "data": {
      "image/png": "[encoded data removed]",
      "text/plain": [
       "<Figure size 432x288 with 1 Axes>"
      ]
     },
     "metadata": {
      "needs_background": "light"
     },
     "output_type": "display_data"
    }
   ],
   "source": [
    "train_accs = []\n",
    "val_accs = []\n",
    "for epoch in range(50):\n",
    "    clf.fit(X_train, y_train)\n",
    "    train_preds = clf.predict(X_train)\n",
    "    train_acc = accuracy_score(y_train, train_preds)\n",
    "    val_preds = clf.predict(X_val)\n",
    "    val_acc = accuracy_score(y_val, val_preds)\n",
    "    train_accs.append(train_acc)\n",
    "    val_accs.append(val_acc)\n",
    "\n",
    "plt.plot(train_accs, label='Training Set')\n",
    "plt.plot(val_accs, label='Validation Set')\n",
    "plt.xlabel('Epoch')\n",
    "plt.ylabel('Accuracy')\n",
    "plt.title('Accuracy Curves')\n",
    "plt.legend()\n",
    "plt.show()"
   ]
  }
 ],
 "metadata": {
  "kernelspec": {
   "display_name": "base",
   "language": "python",
   "name": "python3"
  },
  "language_info": {
   "codemirror_mode": {
    "name": "ipython",
    "version": 3
   },
   "file_extension": ".py",
   "mimetype": "text/x-python",
   "name": "python",
   "nbconvert_exporter": "python",
   "pygments_lexer": "ipython3",
   "version": "3.9.7"
  },
  "orig_nbformat": 4
 },
 "nbformat": 4,
 "nbformat_minor": 2
}
