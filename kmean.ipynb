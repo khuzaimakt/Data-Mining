{
 "cells": [
  {
   "cell_type": "code",
   "execution_count": 1,
   "metadata": {},
   "outputs": [],
   "source": [
    "import pandas as pd\n",
    "import sklearn\n",
    "import matplotlib.pyplot as plt\n",
    "from sklearn.cluster import KMeans\n",
    "from sklearn.preprocessing import LabelEncoder\n",
    "\n"
   ]
  },
  {
   "cell_type": "code",
   "execution_count": 2,
   "metadata": {},
   "outputs": [],
   "source": [
    "data = pd.read_csv('Mall_Customers_Data.csv')"
   ]
  },
  {
   "cell_type": "code",
   "execution_count": 3,
   "metadata": {},
   "outputs": [
    {
     "data": {
      "text/html": [
       "<div>\n",
       "<style scoped>\n",
       "    .dataframe tbody tr th:only-of-type {\n",
       "        vertical-align: middle;\n",
       "    }\n",
       "\n",
       "    .dataframe tbody tr th {\n",
       "        vertical-align: top;\n",
       "    }\n",
       "\n",
       "    .dataframe thead th {\n",
       "        text-align: right;\n",
       "    }\n",
       "</style>\n",
       "<table border=\"1\" class=\"dataframe\">\n",
       "  <thead>\n",
       "    <tr style=\"text-align: right;\">\n",
       "      <th></th>\n",
       "      <th>CustomerID</th>\n",
       "      <th>Name</th>\n",
       "      <th>Gender</th>\n",
       "      <th>Age</th>\n",
       "      <th>Annual Income (k$)</th>\n",
       "      <th>Spending Score (1-100)</th>\n",
       "      <th>Address</th>\n",
       "      <th>Occupation</th>\n",
       "      <th>City</th>\n",
       "    </tr>\n",
       "  </thead>\n",
       "  <tbody>\n",
       "    <tr>\n",
       "      <th>0</th>\n",
       "      <td>1</td>\n",
       "      <td>Luis Jackson</td>\n",
       "      <td>Male</td>\n",
       "      <td>19</td>\n",
       "      <td>15</td>\n",
       "      <td>39</td>\n",
       "      <td>7294 Scott Harbor Apt. 602\\nNorth Tammytown, W...</td>\n",
       "      <td>Teacher, music</td>\n",
       "      <td>Brandonshire</td>\n",
       "    </tr>\n",
       "    <tr>\n",
       "      <th>1</th>\n",
       "      <td>2</td>\n",
       "      <td>Nicole Cruz</td>\n",
       "      <td>Male</td>\n",
       "      <td>21</td>\n",
       "      <td>15</td>\n",
       "      <td>81</td>\n",
       "      <td>67557 Moody Roads\\nLake Johnshire, PW 59047</td>\n",
       "      <td>Product manager</td>\n",
       "      <td>Ariasstad</td>\n",
       "    </tr>\n",
       "    <tr>\n",
       "      <th>2</th>\n",
       "      <td>3</td>\n",
       "      <td>Linda Brooks</td>\n",
       "      <td>Female</td>\n",
       "      <td>20</td>\n",
       "      <td>16</td>\n",
       "      <td>6</td>\n",
       "      <td>090 Hancock Highway\\nSouth Patriciaview, DC 65170</td>\n",
       "      <td>Sub</td>\n",
       "      <td>North Shaneville</td>\n",
       "    </tr>\n",
       "    <tr>\n",
       "      <th>3</th>\n",
       "      <td>4</td>\n",
       "      <td>Steven Morgan</td>\n",
       "      <td>Female</td>\n",
       "      <td>23</td>\n",
       "      <td>16</td>\n",
       "      <td>77</td>\n",
       "      <td>6532 Amanda Mission Apt. 406\\nHollyburgh, RI 9...</td>\n",
       "      <td>Administrator</td>\n",
       "      <td>Lake Rebecca</td>\n",
       "    </tr>\n",
       "    <tr>\n",
       "      <th>4</th>\n",
       "      <td>5</td>\n",
       "      <td>Kelly Evans</td>\n",
       "      <td>Female</td>\n",
       "      <td>31</td>\n",
       "      <td>17</td>\n",
       "      <td>40</td>\n",
       "      <td>27141 Lawrence Plains\\nGaryfurt, WV 94124</td>\n",
       "      <td>Occupational therapist</td>\n",
       "      <td>Adamsborough</td>\n",
       "    </tr>\n",
       "  </tbody>\n",
       "</table>\n",
       "</div>"
      ],
      "text/plain": [
       "   CustomerID           Name  Gender  Age  Annual Income (k$)  \\\n",
       "0           1   Luis Jackson    Male   19                  15   \n",
       "1           2    Nicole Cruz    Male   21                  15   \n",
       "2           3   Linda Brooks  Female   20                  16   \n",
       "3           4  Steven Morgan  Female   23                  16   \n",
       "4           5    Kelly Evans  Female   31                  17   \n",
       "\n",
       "   Spending Score (1-100)                                            Address  \\\n",
       "0                      39  7294 Scott Harbor Apt. 602\\nNorth Tammytown, W...   \n",
       "1                      81        67557 Moody Roads\\nLake Johnshire, PW 59047   \n",
       "2                       6  090 Hancock Highway\\nSouth Patriciaview, DC 65170   \n",
       "3                      77  6532 Amanda Mission Apt. 406\\nHollyburgh, RI 9...   \n",
       "4                      40          27141 Lawrence Plains\\nGaryfurt, WV 94124   \n",
       "\n",
       "               Occupation              City  \n",
       "0          Teacher, music      Brandonshire  \n",
       "1         Product manager         Ariasstad  \n",
       "2                     Sub  North Shaneville  \n",
       "3           Administrator      Lake Rebecca  \n",
       "4  Occupational therapist      Adamsborough  "
      ]
     },
     "execution_count": 3,
     "metadata": {},
     "output_type": "execute_result"
    }
   ],
   "source": [
    "data.head()"
   ]
  },
  {
   "cell_type": "code",
   "execution_count": 4,
   "metadata": {},
   "outputs": [],
   "source": [
    "le=LabelEncoder()\n",
    "data['Gender']=le.fit_transform(data['Gender'])"
   ]
  },
  {
   "cell_type": "code",
   "execution_count": 5,
   "metadata": {},
   "outputs": [
    {
     "data": {
      "text/plain": [
       "count    5200.000000\n",
       "mean       43.758269\n",
       "std        15.222913\n",
       "min        18.000000\n",
       "25%        31.000000\n",
       "50%        44.000000\n",
       "75%        57.000000\n",
       "max        70.000000\n",
       "Name: Age, dtype: float64"
      ]
     },
     "execution_count": 5,
     "metadata": {},
     "output_type": "execute_result"
    }
   ],
   "source": [
    "data['Age'].describe()"
   ]
  },
  {
   "cell_type": "code",
   "execution_count": 6,
   "metadata": {},
   "outputs": [
    {
     "name": "stdout",
     "output_type": "stream",
     "text": [
      "Spending Score (1-100)    1.000000\n",
      "Gender                    0.020395\n",
      "CustomerID                0.017582\n",
      "Annual Income (k$)        0.008992\n",
      "Age                      -0.019664\n",
      "Name: Spending Score (1-100), dtype: float64\n"
     ]
    }
   ],
   "source": [
    "corr = data.corr()\n",
    "print(corr['Spending Score (1-100)'].sort_values(ascending=False))"
   ]
  },
  {
   "cell_type": "code",
   "execution_count": 7,
   "metadata": {},
   "outputs": [
    {
     "data": {
      "image/png": "[encoded data removed]",
      "text/plain": [
       "<Figure size 432x288 with 1 Axes>"
      ]
     },
     "metadata": {
      "needs_background": "light"
     },
     "output_type": "display_data"
    }
   ],
   "source": [
    "Temp=data[['Gender','Age','Annual Income (k$)','Spending Score (1-100)']].values\n",
    "wcss = []\n",
    "for k in range(1, 10):\n",
    "    km = KMeans(n_clusters=k, random_state=0)\n",
    "    km.fit(Temp)\n",
    "    wcss.append(km.inertia_)\n",
    "plt.plot(range(1, 10), wcss)\n",
    "plt.xlabel('Number of clusters')\n",
    "plt.ylabel('Inertia')\n",
    "plt.show()"
   ]
  },
  {
   "cell_type": "code",
   "execution_count": 13,
   "metadata": {},
   "outputs": [],
   "source": [
    "kmeans = KMeans(n_clusters=3, random_state=42).fit(Temp)\n",
    "data['Cluster'] = kmeans.labels_"
   ]
  },
  {
   "cell_type": "code",
   "execution_count": 14,
   "metadata": {},
   "outputs": [
    {
     "name": "stdout",
     "output_type": "stream",
     "text": [
      "105.17423076923077\n"
     ]
    }
   ],
   "source": [
    "ai=data['Annual Income (k$)'].mean()\n",
    "print(ai)"
   ]
  },
  {
   "cell_type": "code",
   "execution_count": 15,
   "metadata": {},
   "outputs": [
    {
     "name": "stdout",
     "output_type": "stream",
     "text": [
      "49.84423076923077\n"
     ]
    }
   ],
   "source": [
    "asp=data['Spending Score (1-100)'].mean()\n",
    "print(asp)"
   ]
  },
  {
   "cell_type": "code",
   "execution_count": 16,
   "metadata": {},
   "outputs": [
    {
     "name": "stdout",
     "output_type": "stream",
     "text": [
      "31.80769230769231\n"
     ]
    }
   ],
   "source": [
    "cc = data['Cluster'].value_counts()\n",
    "ccp = cc[1] / len(data) * 100\n",
    "print(ccp)\n"
   ]
  },
  {
   "cell_type": "code",
   "execution_count": 17,
   "metadata": {},
   "outputs": [
    {
     "name": "stdout",
     "output_type": "stream",
     "text": [
      "49\n"
     ]
    }
   ],
   "source": [
    "c2d = data[data['Cluster'] == 2]\n",
    "ac = c2d['Age'].value_counts()\n",
    "mf = ac.index[0]\n",
    "print(mf)"
   ]
  },
  {
   "cell_type": "code",
   "execution_count": 18,
   "metadata": {},
   "outputs": [
    {
     "name": "stdout",
     "output_type": "stream",
     "text": [
      "nan\n"
     ]
    }
   ],
   "source": [
    "c3d = data[data['Cluster'] == 3]\n",
    "ai = c3d['Annual Income (k$)'].mean()\n",
    "print(ai)"
   ]
  },
  {
   "cell_type": "code",
   "execution_count": 19,
   "metadata": {},
   "outputs": [
    {
     "name": "stdout",
     "output_type": "stream",
     "text": [
      "<bound method IndexOpsMixin.value_counts of 0       2\n",
      "1       2\n",
      "2       2\n",
      "3       2\n",
      "4       2\n",
      "       ..\n",
      "5195    0\n",
      "5196    0\n",
      "5197    0\n",
      "5198    0\n",
      "5199    0\n",
      "Name: Cluster, Length: 5200, dtype: int32>\n"
     ]
    }
   ],
   "source": [
    "print(data['Cluster'].value_counts)"
   ]
  },
  {
   "cell_type": "code",
   "execution_count": 20,
   "metadata": {},
   "outputs": [
    {
     "name": "stdout",
     "output_type": "stream",
     "text": [
      "      CustomerID              Name  Gender  Age  Annual Income (k$)  \\\n",
      "144          145        Laura Reed       1   25                  77   \n",
      "146          147       Sean Valdez       1   48                  77   \n",
      "148          149     Jeffrey Stone       0   34                  78   \n",
      "149          150        Lori Yoder       1   34                  78   \n",
      "150          151  Teresa Mcpherson       1   43                  78   \n",
      "...          ...               ...     ...  ...                 ...   \n",
      "5195        5196      David Garcia       0   64                 119   \n",
      "5196        5197     Ryan Thompson       1   47                 122   \n",
      "5197        5198    Alejandro Haas       0   34                  99   \n",
      "5198        5199   Kelly Maldonado       1   54                  97   \n",
      "5199        5200        Cody Kelly       1   59                 106   \n",
      "\n",
      "      Spending Score (1-100)  \\\n",
      "144                       12   \n",
      "146                       36   \n",
      "148                       22   \n",
      "149                       90   \n",
      "150                       17   \n",
      "...                      ...   \n",
      "5195                      26   \n",
      "5196                      30   \n",
      "5197                      37   \n",
      "5198                      69   \n",
      "5199                       3   \n",
      "\n",
      "                                                Address  \\\n",
      "144                255 David Roads\\nEast Seth, AS 37927   \n",
      "146   6510 Joseph Forest Suite 081\\nLake Heather, AS...   \n",
      "148              259 Allen Roads\\nNatashastad, FM 62043   \n",
      "149   0781 Kenneth Creek Suite 987\\nNorth Lorraine, ...   \n",
      "150   271 Schmidt Trafficway Suite 883\\nAprilland, C...   \n",
      "...                                                 ...   \n",
      "5195      90770 Cardenas Turnpike\\nMillertown, NH 63540   \n",
      "5196         2654 Jimenez Ford\\nChristinebury, SC 66676   \n",
      "5197                   PSC 2918, Box 0616\\nAPO AP 06820   \n",
      "5198  202 Joshua Locks Suite 047\\nNew Heatherton, MH...   \n",
      "5199      585 Jenny Inlet Apt. 014\\nNew David, MH 87854   \n",
      "\n",
      "                                             Occupation                City  \\\n",
      "144                          Surveyor, building control        Mccoyborough   \n",
      "146                                   Systems developer  Port Catherineport   \n",
      "148                               Accounting technician          Gloriaport   \n",
      "149              Scientist, product/process development          Nancyville   \n",
      "150                                  Theme park manager          Clarkmouth   \n",
      "...                                                 ...                 ...   \n",
      "5195  Clinical scientist, histocompatibility and imm...         Annetteberg   \n",
      "5196                                Geologist, wellsite        Port Jeffrey   \n",
      "5197                                  Systems developer     New Elaineshire   \n",
      "5198                                     Energy manager          Ronaldtown   \n",
      "5199                      Development worker, community        South Stacey   \n",
      "\n",
      "      Cluster  \n",
      "144         0  \n",
      "146         0  \n",
      "148         0  \n",
      "149         0  \n",
      "150         0  \n",
      "...       ...  \n",
      "5195        0  \n",
      "5196        0  \n",
      "5197        0  \n",
      "5198        0  \n",
      "5199        0  \n",
      "\n",
      "[1678 rows x 10 columns]\n",
      "      CustomerID             Name  Gender  Age  Annual Income (k$)  \\\n",
      "200          201    Molly Griffin       0   45                 156   \n",
      "201          202    Edward Adkins       1   31                 160   \n",
      "203          204      Angela Berg       0   33                 170   \n",
      "206          207      Joseph Shaw       0   23                 171   \n",
      "207          208  Joseph Browning       0   39                 176   \n",
      "...          ...              ...     ...  ...                 ...   \n",
      "5176        5177       Dylan Shah       0   38                 169   \n",
      "5180        5181     Alec Spencer       0   28                 159   \n",
      "5182        5183    Alan Matthews       0   66                 157   \n",
      "5187        5188    Brenda Lawson       0   33                 150   \n",
      "5188        5189     Andrew Davis       0   36                 141   \n",
      "\n",
      "      Spending Score (1-100)  \\\n",
      "200                       46   \n",
      "201                       35   \n",
      "203                       18   \n",
      "206                       33   \n",
      "207                       85   \n",
      "...                      ...   \n",
      "5176                      13   \n",
      "5180                      57   \n",
      "5182                      11   \n",
      "5187                      11   \n",
      "5188                      87   \n",
      "\n",
      "                                                Address  \\\n",
      "200     11017 Reynolds Freeway\\nLivingstonton, OK 89265   \n",
      "201          4712 Roth Mountains\\nNorth Scott, FM 26695   \n",
      "203   2979 Nicole Route Suite 500\\nGarciaport, WI 98814   \n",
      "206   7321 Robert Hill Suite 776\\nNorth Amandafort, ...   \n",
      "207         77937 Jacobs Centers\\nWest Brandy, IL 79428   \n",
      "...                                                 ...   \n",
      "5176     0252 Julie Shores\\nNew Benjaminburgh, MO 11190   \n",
      "5180  9329 Mark Hollow Suite 806\\nMatthewborough, IN...   \n",
      "5182        4711 Bryan Curve\\nThompsonborough, NM 15204   \n",
      "5187          7753 Roberts Lodge\\nNorth Logan, FM 28539   \n",
      "5188  0712 Craig Knolls Suite 143\\nTaylorport, OH 11159   \n",
      "\n",
      "                              Occupation              City  Cluster  \n",
      "200                                  Sub      New Emmaland        1  \n",
      "201                        Media planner    Anthonyborough        1  \n",
      "203             Public relations officer      South Teresa        1  \n",
      "206                        Haematologist     North Patrick        1  \n",
      "207                        Archaeologist         Jamesside        1  \n",
      "...                                  ...               ...      ...  \n",
      "5176                        Tree surgeon         Billyfurt        1  \n",
      "5180                        Video editor         Petertown        1  \n",
      "5182                       Archaeologist        New Justin        1  \n",
      "5187          Research scientist (maths)  West Richardfort        1  \n",
      "5188  Museum/gallery exhibitions officer         Blacktown        1  \n",
      "\n",
      "[1654 rows x 10 columns]\n",
      "      CustomerID            Name  Gender  Age  Annual Income (k$)  \\\n",
      "0              1    Luis Jackson       1   19                  15   \n",
      "1              2     Nicole Cruz       1   21                  15   \n",
      "2              3    Linda Brooks       0   20                  16   \n",
      "3              4   Steven Morgan       0   23                  16   \n",
      "4              5     Kelly Evans       0   31                  17   \n",
      "...          ...             ...     ...  ...                 ...   \n",
      "5177        5178    Taylor Jones       0   52                  24   \n",
      "5178        5179    Tyler Wagner       1   70                  59   \n",
      "5179        5180    Megan Taylor       1   34                  67   \n",
      "5189        5190  Deborah Hunter       0   44                  22   \n",
      "5191        5192  Danielle Terry       0   41                  44   \n",
      "\n",
      "      Spending Score (1-100)  \\\n",
      "0                         39   \n",
      "1                         81   \n",
      "2                          6   \n",
      "3                         77   \n",
      "4                         40   \n",
      "...                      ...   \n",
      "5177                      35   \n",
      "5178                      25   \n",
      "5179                      89   \n",
      "5189                      25   \n",
      "5191                      98   \n",
      "\n",
      "                                                Address  \\\n",
      "0     7294 Scott Harbor Apt. 602\\nNorth Tammytown, W...   \n",
      "1           67557 Moody Roads\\nLake Johnshire, PW 59047   \n",
      "2     090 Hancock Highway\\nSouth Patriciaview, DC 65170   \n",
      "3     6532 Amanda Mission Apt. 406\\nHollyburgh, RI 9...   \n",
      "4             27141 Lawrence Plains\\nGaryfurt, WV 94124   \n",
      "...                                                 ...   \n",
      "5177  01857 Joshua Bridge Apt. 181\\nLake Timothybury...   \n",
      "5178    2700 Leach Village\\nWest Jacobborough, NC 24575   \n",
      "5179  2600 Stevens Station Suite 042\\nPort Laura, TN...   \n",
      "5189        283 Erik Station\\nEast Terriburgh, KS 48838   \n",
      "5191               774 Alexis Fall\\nMilesfurt, HI 97304   \n",
      "\n",
      "                      Occupation                 City  Cluster  \n",
      "0                 Teacher, music         Brandonshire        2  \n",
      "1                Product manager            Ariasstad        2  \n",
      "2                            Sub     North Shaneville        2  \n",
      "3                  Administrator         Lake Rebecca        2  \n",
      "4         Occupational therapist         Adamsborough        2  \n",
      "...                          ...                  ...      ...  \n",
      "5177              Retail manager     Christopherhaven        2  \n",
      "5178       Accountant, chartered  North Stephaniefurt        2  \n",
      "5179  Civil engineer, consulting      West Hunterfort        2  \n",
      "5189          Field seismologist           Mooreshire        2  \n",
      "5191     Horticultural therapist     South Josephport        2  \n",
      "\n",
      "[1868 rows x 10 columns]\n",
      "Empty DataFrame\n",
      "Columns: [CustomerID, Name, Gender, Age, Annual Income (k$), Spending Score (1-100), Address, Occupation, City, Cluster]\n",
      "Index: []\n"
     ]
    }
   ],
   "source": [
    "print( data[data['Cluster'] == 0])\n",
    "print( data[data['Cluster'] == 1])\n",
    "print( data[data['Cluster'] == 2])\n",
    "print( data[data['Cluster'] == 3])"
   ]
  },
  {
   "cell_type": "code",
   "execution_count": null,
   "metadata": {},
   "outputs": [],
   "source": []
  }
 ],
 "metadata": {
  "kernelspec": {
   "display_name": "base",
   "language": "python",
   "name": "python3"
  },
  "language_info": {
   "codemirror_mode": {
    "name": "ipython",
    "version": 3
   },
   "file_extension": ".py",
   "mimetype": "text/x-python",
   "name": "python",
   "nbconvert_exporter": "python",
   "pygments_lexer": "ipython3",
   "version": "3.9.7"
  },
  "orig_nbformat": 4
 },
 "nbformat": 4,
 "nbformat_minor": 2
}
